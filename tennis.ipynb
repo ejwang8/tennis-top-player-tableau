{
 "cells": [
  {
   "cell_type": "markdown",
   "id": "024bdae0",
   "metadata": {},
   "source": [
    "pseudocode\n",
    "\n",
    "import csv files\n",
    "\n",
    "filter for ranking=1 in ranking files and join them all together\n",
    "\n",
    "fill in the metadata for players\n",
    "\n",
    "create a new table with player and reign periods per reign\n",
    "\n",
    "then done! move to tableau"
   ]
  },
  {
   "cell_type": "code",
   "execution_count": null,
   "id": "8118ecbd",
   "metadata": {},
   "outputs": [],
   "source": []
  }
 ],
 "metadata": {
  "kernelspec": {
   "display_name": "Python 3.10.6 (miniforge base)",
   "language": "python",
   "name": "miniforge-base-3106"
  },
  "language_info": {
   "codemirror_mode": {
    "name": "ipython",
    "version": 3
   },
   "file_extension": ".py",
   "mimetype": "text/x-python",
   "name": "python",
   "nbconvert_exporter": "python",
   "pygments_lexer": "ipython3",
   "version": "3.10.6"
  }
 },
 "nbformat": 4,
 "nbformat_minor": 5
}
